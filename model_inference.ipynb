{
 "cells": [
  {
   "cell_type": "markdown",
   "metadata": {},
   "source": [
    "### **Data Inference - Bank Customer Churn Prediction**"
   ]
  },
  {
   "cell_type": "markdown",
   "metadata": {},
   "source": [
    "Pada tahapan ini, kita akan membaut data dummy untuk melakukan pengujian terhadap model klasifikasi yang telah kita buat. Disini model yang digunakan adalah hasil model terbaik berdasarkan hasil mdoel training dan juga setelah dilakukan hyperparameter tuning - yaitu Gradient Boosting Classifier."
   ]
  },
  {
   "cell_type": "markdown",
   "metadata": {},
   "source": [
    "#### **Import Library**"
   ]
  },
  {
   "cell_type": "code",
   "execution_count": 5,
   "metadata": {},
   "outputs": [],
   "source": [
    "#import library untuk membuat data interference \n",
    "import pandas as pd\n",
    "import numpy as np\n",
    "import pickle\n",
    "import json\n",
    "from sklearn import *"
   ]
  },
  {
   "cell_type": "markdown",
   "metadata": {},
   "source": [
    "#### **Memuat Model**"
   ]
  },
  {
   "cell_type": "markdown",
   "metadata": {},
   "source": [
    "Memuat model yang telah disimpan dalam bentuk file pickle yang akan digunakan untuk melakukan pengujian."
   ]
  },
  {
   "cell_type": "code",
   "execution_count": 6,
   "metadata": {},
   "outputs": [],
   "source": [
    "#Memuat model yang akan digunakan untuk proses data inference\n",
    "with open('best_models_gb.pkl', 'rb') as file_4:\n",
    "  gbmodel = pickle.load(file_4)"
   ]
  },
  {
   "cell_type": "markdown",
   "metadata": {},
   "source": [
    "#### **Membuat Dataset**"
   ]
  },
  {
   "cell_type": "markdown",
   "metadata": {},
   "source": [
    "Pada dataset dummy ini, kolom-kolom yang digunakan sudah difilter dengan menggunakan feature selection untuk memudahkan pembuatan data."
   ]
  },
  {
   "cell_type": "code",
   "execution_count": 7,
   "metadata": {},
   "outputs": [
    {
     "data": {
      "text/html": [
       "<div>\n",
       "<style scoped>\n",
       "    .dataframe tbody tr th:only-of-type {\n",
       "        vertical-align: middle;\n",
       "    }\n",
       "\n",
       "    .dataframe tbody tr th {\n",
       "        vertical-align: top;\n",
       "    }\n",
       "\n",
       "    .dataframe thead th {\n",
       "        text-align: right;\n",
       "    }\n",
       "</style>\n",
       "<table border=\"1\" class=\"dataframe\">\n",
       "  <thead>\n",
       "    <tr style=\"text-align: right;\">\n",
       "      <th></th>\n",
       "      <th>active_member</th>\n",
       "      <th>country</th>\n",
       "      <th>gender</th>\n",
       "      <th>products_number</th>\n",
       "      <th>age</th>\n",
       "      <th>balance</th>\n",
       "    </tr>\n",
       "  </thead>\n",
       "  <tbody>\n",
       "    <tr>\n",
       "      <th>0</th>\n",
       "      <td>0</td>\n",
       "      <td>France</td>\n",
       "      <td>Male</td>\n",
       "      <td>4</td>\n",
       "      <td>36.714529</td>\n",
       "      <td>57747.525033</td>\n",
       "    </tr>\n",
       "    <tr>\n",
       "      <th>1</th>\n",
       "      <td>1</td>\n",
       "      <td>Germany</td>\n",
       "      <td>Male</td>\n",
       "      <td>2</td>\n",
       "      <td>58.460498</td>\n",
       "      <td>108571.728264</td>\n",
       "    </tr>\n",
       "    <tr>\n",
       "      <th>2</th>\n",
       "      <td>1</td>\n",
       "      <td>Spain</td>\n",
       "      <td>Male</td>\n",
       "      <td>3</td>\n",
       "      <td>24.591875</td>\n",
       "      <td>31782.760031</td>\n",
       "    </tr>\n",
       "    <tr>\n",
       "      <th>3</th>\n",
       "      <td>0</td>\n",
       "      <td>Spain</td>\n",
       "      <td>Female</td>\n",
       "      <td>2</td>\n",
       "      <td>76.948928</td>\n",
       "      <td>104523.747733</td>\n",
       "    </tr>\n",
       "    <tr>\n",
       "      <th>4</th>\n",
       "      <td>1</td>\n",
       "      <td>Germany</td>\n",
       "      <td>Female</td>\n",
       "      <td>2</td>\n",
       "      <td>64.495596</td>\n",
       "      <td>110611.827338</td>\n",
       "    </tr>\n",
       "  </tbody>\n",
       "</table>\n",
       "</div>"
      ],
      "text/plain": [
       "   active_member  country  gender  products_number        age        balance\n",
       "0              0   France    Male                4  36.714529   57747.525033\n",
       "1              1  Germany    Male                2  58.460498  108571.728264\n",
       "2              1    Spain    Male                3  24.591875   31782.760031\n",
       "3              0    Spain  Female                2  76.948928  104523.747733\n",
       "4              1  Germany  Female                2  64.495596  110611.827338"
      ]
     },
     "execution_count": 7,
     "metadata": {},
     "output_type": "execute_result"
    }
   ],
   "source": [
    "#Menentukan jumlah rows\n",
    "num_rows = 10\n",
    "\n",
    "#Membuat dataset\n",
    "data_purchased_dummy = {\n",
    "    'active_member': np.random.choice([0,1], num_rows),  \n",
    "    'country': np.random.choice(['France','Spain','Germany'], num_rows),  \n",
    "    'gender': np.random.choice(['Male','Female'], num_rows),\n",
    "    'products_number': np.random.choice([1,2,3,4], num_rows),  \n",
    "    'age': np.random.uniform(20, 95, num_rows),  \n",
    "    'balance': np.random.uniform(0, 170000, num_rows) \n",
    "}\n",
    "\n",
    "#Memuat data ke dalam dataset\n",
    "data_bank_customer = pd.DataFrame(data_purchased_dummy)\n",
    "data_bank_customer.head()"
   ]
  },
  {
   "cell_type": "markdown",
   "metadata": {},
   "source": [
    "#### **Testing Model Inference**"
   ]
  },
  {
   "cell_type": "code",
   "execution_count": 8,
   "metadata": {},
   "outputs": [
    {
     "data": {
      "text/html": [
       "<div>\n",
       "<style scoped>\n",
       "    .dataframe tbody tr th:only-of-type {\n",
       "        vertical-align: middle;\n",
       "    }\n",
       "\n",
       "    .dataframe tbody tr th {\n",
       "        vertical-align: top;\n",
       "    }\n",
       "\n",
       "    .dataframe thead th {\n",
       "        text-align: right;\n",
       "    }\n",
       "</style>\n",
       "<table border=\"1\" class=\"dataframe\">\n",
       "  <thead>\n",
       "    <tr style=\"text-align: right;\">\n",
       "      <th></th>\n",
       "      <th>Prediction Result on Default Payment Next Month</th>\n",
       "    </tr>\n",
       "  </thead>\n",
       "  <tbody>\n",
       "    <tr>\n",
       "      <th>0</th>\n",
       "      <td>1</td>\n",
       "    </tr>\n",
       "    <tr>\n",
       "      <th>1</th>\n",
       "      <td>0</td>\n",
       "    </tr>\n",
       "    <tr>\n",
       "      <th>2</th>\n",
       "      <td>1</td>\n",
       "    </tr>\n",
       "    <tr>\n",
       "      <th>3</th>\n",
       "      <td>1</td>\n",
       "    </tr>\n",
       "    <tr>\n",
       "      <th>4</th>\n",
       "      <td>0</td>\n",
       "    </tr>\n",
       "    <tr>\n",
       "      <th>5</th>\n",
       "      <td>1</td>\n",
       "    </tr>\n",
       "    <tr>\n",
       "      <th>6</th>\n",
       "      <td>1</td>\n",
       "    </tr>\n",
       "    <tr>\n",
       "      <th>7</th>\n",
       "      <td>0</td>\n",
       "    </tr>\n",
       "    <tr>\n",
       "      <th>8</th>\n",
       "      <td>0</td>\n",
       "    </tr>\n",
       "    <tr>\n",
       "      <th>9</th>\n",
       "      <td>1</td>\n",
       "    </tr>\n",
       "  </tbody>\n",
       "</table>\n",
       "</div>"
      ],
      "text/plain": [
       "   Prediction Result on Default Payment Next Month\n",
       "0                                                1\n",
       "1                                                0\n",
       "2                                                1\n",
       "3                                                1\n",
       "4                                                0\n",
       "5                                                1\n",
       "6                                                1\n",
       "7                                                0\n",
       "8                                                0\n",
       "9                                                1"
      ]
     },
     "execution_count": 8,
     "metadata": {},
     "output_type": "execute_result"
    }
   ],
   "source": [
    "#predict using linear reg model\n",
    "\n",
    "y_pred_inf = gbmodel.predict(data_bank_customer)\n",
    "y_pred_inf= pd.DataFrame(y_pred_inf)\n",
    "y_pred_inf.rename(columns={0: 'Prediction Result on Default Payment Next Month'}, inplace=True)\n",
    "y_pred_inf"
   ]
  }
 ],
 "metadata": {
  "kernelspec": {
   "display_name": "base",
   "language": "python",
   "name": "python3"
  },
  "language_info": {
   "codemirror_mode": {
    "name": "ipython",
    "version": 3
   },
   "file_extension": ".py",
   "mimetype": "text/x-python",
   "name": "python",
   "nbconvert_exporter": "python",
   "pygments_lexer": "ipython3",
   "version": "3.12.4"
  }
 },
 "nbformat": 4,
 "nbformat_minor": 2
}
